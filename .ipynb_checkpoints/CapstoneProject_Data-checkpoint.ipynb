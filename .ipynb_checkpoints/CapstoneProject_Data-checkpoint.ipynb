{
 "cells": [
  {
   "cell_type": "markdown",
   "metadata": {},
   "source": [
    "# Capstone Project"
   ]
  },
  {
   "cell_type": "markdown",
   "metadata": {},
   "source": [
    "## Data Description:"
   ]
  },
  {
   "cell_type": "markdown",
   "metadata": {},
   "source": [
    "<p><li>Dataset 1 : https://es.wikipedia.org/wiki/Anexo:Localidades_de_Bogot%C3%A1 <br/> Will use Boroughs information like id, name, surface, population </li></p>\n",
    "<p><li> Dataset 2 :  https://es.wikipedia.org/wiki/Anexo:Barrios_de_Bogot%C3%A1 <br/> Will use Neighborhoods information like id, name, borough, subdivisions</li></p>\n"
   ]
  },
  {
   "cell_type": "markdown",
   "metadata": {},
   "source": [
    "<li>Will use <strong>Geocoder</strong> library to get each neighborhood geographic information (latitude, longitude).</li>"
   ]
  },
  {
   "cell_type": "markdown",
   "metadata": {},
   "source": [
    "<li><strong>Foursquare API</strong> to get venues information for each neighborhood in the city.</li>"
   ]
  },
  {
   "cell_type": "code",
   "execution_count": null,
   "metadata": {},
   "outputs": [],
   "source": []
  }
 ],
 "metadata": {
  "kernelspec": {
   "display_name": "Python 3",
   "language": "python",
   "name": "python3"
  },
  "language_info": {
   "codemirror_mode": {
    "name": "ipython",
    "version": 3
   },
   "file_extension": ".py",
   "mimetype": "text/x-python",
   "name": "python",
   "nbconvert_exporter": "python",
   "pygments_lexer": "ipython3",
   "version": "3.6.5"
  }
 },
 "nbformat": 4,
 "nbformat_minor": 2
}
