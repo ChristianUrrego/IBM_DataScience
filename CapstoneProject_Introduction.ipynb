{
 "cells": [
  {
   "cell_type": "markdown",
   "metadata": {},
   "source": [
    "# Capstone Project"
   ]
  },
  {
   "cell_type": "markdown",
   "metadata": {},
   "source": [
    "## Introduction / Business Problem"
   ]
  },
  {
   "cell_type": "markdown",
   "metadata": {},
   "source": [
    "<p>Bogotá is the Colombia's capital, a country in South America. It has approximately 7'743.955 inhabitants, it is the city with the major population in the country. As a capital city, the government has its main headquarters there and also concentrates industry and the economy in general.</p>\n",
    "\n",
    "<p>The city is divided into boroughs and these, in turn, into neighborhoods distributed throughout its urban and rural areas. The large inhabitants amount, the increase in the migrants arrival, both from other areas of the country and from other countries and the continuous city growth  has made the number of people in some localities increase more than in others, but not in the same way the spaces they have for recreation and social gathering.</p>\n",
    "\n",
    "<p>The intention with this project is to identify the similarity among the areas of the city using the venues they have and setting the relationship that exists between it and the inhabitants number in each boroug and thus identify in which areas and what types of places can be created to encourage the balanced city growth .</p>\n",
    "\n",
    "<p>This could be used as a guide for people who want to start entertainment sites and determine which areas could be good options to establish their business.</p>"
   ]
  },
  {
   "cell_type": "code",
   "execution_count": null,
   "metadata": {},
   "outputs": [],
   "source": []
  }
 ],
 "metadata": {
  "kernelspec": {
   "display_name": "Python 3",
   "language": "python",
   "name": "python3"
  },
  "language_info": {
   "codemirror_mode": {
    "name": "ipython",
    "version": 3
   },
   "file_extension": ".py",
   "mimetype": "text/x-python",
   "name": "python",
   "nbconvert_exporter": "python",
   "pygments_lexer": "ipython3",
   "version": "3.6.5"
  }
 },
 "nbformat": 4,
 "nbformat_minor": 2
}
